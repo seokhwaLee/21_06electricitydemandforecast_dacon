{
 "metadata": {
  "language_info": {
   "codemirror_mode": {
    "name": "ipython",
    "version": 3
   },
   "file_extension": ".py",
   "mimetype": "text/x-python",
   "name": "python",
   "nbconvert_exporter": "python",
   "pygments_lexer": "ipython3",
   "version": "3.8.5"
  },
  "orig_nbformat": 2,
  "kernelspec": {
   "name": "python385jvsc74a57bd0183bbf6827d058c2a2fb0f4acdc0420849dda2b4380af0e437e38c64d798d8b7",
   "display_name": "Python 3.8.5 64-bit ('base': conda)"
  }
 },
 "nbformat": 4,
 "nbformat_minor": 2,
 "cells": [
  {
   "cell_type": "code",
   "execution_count": 23,
   "metadata": {},
   "outputs": [],
   "source": [
    "import pandas as pd\n",
    "\n",
    "train = pd.read_csv('train.csv', encoding='cp949')\n",
    "test = pd.read_csv('test.csv', encoding='cp949')"
   ]
  },
  {
   "cell_type": "code",
   "execution_count": 7,
   "metadata": {},
   "outputs": [
    {
     "output_type": "execute_result",
     "data": {
      "text/plain": [
       "        num      date_time  전력사용량(kWh)  기온(°C)  풍속(m/s)  습도(%)  강수량(mm)  \\\n",
       "0         1  2020-06-01 00    8179.056    17.6      2.5   92.0      0.8   \n",
       "1         1  2020-06-01 01    8135.640    17.7      2.9   91.0      0.3   \n",
       "2         1  2020-06-01 02    8107.128    17.5      3.2   91.0      0.0   \n",
       "3         1  2020-06-01 03    8048.808    17.1      3.2   91.0      0.0   \n",
       "4         1  2020-06-01 04    8043.624    17.0      3.3   92.0      0.0   \n",
       "...     ...            ...         ...     ...      ...    ...      ...   \n",
       "122395   60  2020-08-24 19    4114.368    27.8      2.3   68.0      0.0   \n",
       "122396   60  2020-08-24 20    3975.696    27.3      1.2   71.0      0.0   \n",
       "122397   60  2020-08-24 21    3572.208    27.3      1.8   71.0      0.0   \n",
       "122398   60  2020-08-24 22    3299.184    27.1      1.8   74.0      0.0   \n",
       "122399   60  2020-08-24 23    3204.576    27.1      2.6   75.0      0.0   \n",
       "\n",
       "        일조(hr)  비전기냉방설비운영  태양광보유  \n",
       "0          0.0        0.0    0.0  \n",
       "1          0.0        0.0    0.0  \n",
       "2          0.0        0.0    0.0  \n",
       "3          0.0        0.0    0.0  \n",
       "4          0.0        0.0    0.0  \n",
       "...        ...        ...    ...  \n",
       "122395     0.7        1.0    1.0  \n",
       "122396     0.0        1.0    1.0  \n",
       "122397     0.0        1.0    1.0  \n",
       "122398     0.0        1.0    1.0  \n",
       "122399     0.0        1.0    1.0  \n",
       "\n",
       "[122400 rows x 10 columns]"
      ],
      "text/html": "<div>\n<style scoped>\n    .dataframe tbody tr th:only-of-type {\n        vertical-align: middle;\n    }\n\n    .dataframe tbody tr th {\n        vertical-align: top;\n    }\n\n    .dataframe thead th {\n        text-align: right;\n    }\n</style>\n<table border=\"1\" class=\"dataframe\">\n  <thead>\n    <tr style=\"text-align: right;\">\n      <th></th>\n      <th>num</th>\n      <th>date_time</th>\n      <th>전력사용량(kWh)</th>\n      <th>기온(°C)</th>\n      <th>풍속(m/s)</th>\n      <th>습도(%)</th>\n      <th>강수량(mm)</th>\n      <th>일조(hr)</th>\n      <th>비전기냉방설비운영</th>\n      <th>태양광보유</th>\n    </tr>\n  </thead>\n  <tbody>\n    <tr>\n      <th>0</th>\n      <td>1</td>\n      <td>2020-06-01 00</td>\n      <td>8179.056</td>\n      <td>17.6</td>\n      <td>2.5</td>\n      <td>92.0</td>\n      <td>0.8</td>\n      <td>0.0</td>\n      <td>0.0</td>\n      <td>0.0</td>\n    </tr>\n    <tr>\n      <th>1</th>\n      <td>1</td>\n      <td>2020-06-01 01</td>\n      <td>8135.640</td>\n      <td>17.7</td>\n      <td>2.9</td>\n      <td>91.0</td>\n      <td>0.3</td>\n      <td>0.0</td>\n      <td>0.0</td>\n      <td>0.0</td>\n    </tr>\n    <tr>\n      <th>2</th>\n      <td>1</td>\n      <td>2020-06-01 02</td>\n      <td>8107.128</td>\n      <td>17.5</td>\n      <td>3.2</td>\n      <td>91.0</td>\n      <td>0.0</td>\n      <td>0.0</td>\n      <td>0.0</td>\n      <td>0.0</td>\n    </tr>\n    <tr>\n      <th>3</th>\n      <td>1</td>\n      <td>2020-06-01 03</td>\n      <td>8048.808</td>\n      <td>17.1</td>\n      <td>3.2</td>\n      <td>91.0</td>\n      <td>0.0</td>\n      <td>0.0</td>\n      <td>0.0</td>\n      <td>0.0</td>\n    </tr>\n    <tr>\n      <th>4</th>\n      <td>1</td>\n      <td>2020-06-01 04</td>\n      <td>8043.624</td>\n      <td>17.0</td>\n      <td>3.3</td>\n      <td>92.0</td>\n      <td>0.0</td>\n      <td>0.0</td>\n      <td>0.0</td>\n      <td>0.0</td>\n    </tr>\n    <tr>\n      <th>...</th>\n      <td>...</td>\n      <td>...</td>\n      <td>...</td>\n      <td>...</td>\n      <td>...</td>\n      <td>...</td>\n      <td>...</td>\n      <td>...</td>\n      <td>...</td>\n      <td>...</td>\n    </tr>\n    <tr>\n      <th>122395</th>\n      <td>60</td>\n      <td>2020-08-24 19</td>\n      <td>4114.368</td>\n      <td>27.8</td>\n      <td>2.3</td>\n      <td>68.0</td>\n      <td>0.0</td>\n      <td>0.7</td>\n      <td>1.0</td>\n      <td>1.0</td>\n    </tr>\n    <tr>\n      <th>122396</th>\n      <td>60</td>\n      <td>2020-08-24 20</td>\n      <td>3975.696</td>\n      <td>27.3</td>\n      <td>1.2</td>\n      <td>71.0</td>\n      <td>0.0</td>\n      <td>0.0</td>\n      <td>1.0</td>\n      <td>1.0</td>\n    </tr>\n    <tr>\n      <th>122397</th>\n      <td>60</td>\n      <td>2020-08-24 21</td>\n      <td>3572.208</td>\n      <td>27.3</td>\n      <td>1.8</td>\n      <td>71.0</td>\n      <td>0.0</td>\n      <td>0.0</td>\n      <td>1.0</td>\n      <td>1.0</td>\n    </tr>\n    <tr>\n      <th>122398</th>\n      <td>60</td>\n      <td>2020-08-24 22</td>\n      <td>3299.184</td>\n      <td>27.1</td>\n      <td>1.8</td>\n      <td>74.0</td>\n      <td>0.0</td>\n      <td>0.0</td>\n      <td>1.0</td>\n      <td>1.0</td>\n    </tr>\n    <tr>\n      <th>122399</th>\n      <td>60</td>\n      <td>2020-08-24 23</td>\n      <td>3204.576</td>\n      <td>27.1</td>\n      <td>2.6</td>\n      <td>75.0</td>\n      <td>0.0</td>\n      <td>0.0</td>\n      <td>1.0</td>\n      <td>1.0</td>\n    </tr>\n  </tbody>\n</table>\n<p>122400 rows × 10 columns</p>\n</div>"
     },
     "metadata": {},
     "execution_count": 7
    }
   ],
   "source": [
    "train"
   ]
  },
  {
   "cell_type": "code",
   "execution_count": 24,
   "metadata": {},
   "outputs": [
    {
     "output_type": "execute_result",
     "data": {
      "text/plain": [
       "       num      date_time  기온(°C)  풍속(m/s)  습도(%)  강수량(mm, 6시간)  일조(hr, 3시간)  \\\n",
       "0        1  2020-08-25 00    27.8      1.5   74.0           0.0          0.0   \n",
       "1        1  2020-08-25 01     NaN      NaN    NaN           NaN          NaN   \n",
       "2        1  2020-08-25 02     NaN      NaN    NaN           NaN          NaN   \n",
       "3        1  2020-08-25 03    27.3      1.1   78.0           NaN          0.0   \n",
       "4        1  2020-08-25 04     NaN      NaN    NaN           NaN          NaN   \n",
       "...    ...            ...     ...      ...    ...           ...          ...   \n",
       "10075   60  2020-08-31 19     NaN      NaN    NaN           NaN          NaN   \n",
       "10076   60  2020-08-31 20     NaN      NaN    NaN           NaN          NaN   \n",
       "10077   60  2020-08-31 21    27.9      4.1   68.0           NaN          0.0   \n",
       "10078   60  2020-08-31 22     NaN      NaN    NaN           NaN          NaN   \n",
       "10079   60  2020-08-31 23     NaN      NaN    NaN           NaN          NaN   \n",
       "\n",
       "       비전기냉방설비운영  태양광보유  \n",
       "0            NaN    NaN  \n",
       "1            NaN    NaN  \n",
       "2            NaN    NaN  \n",
       "3            NaN    NaN  \n",
       "4            NaN    NaN  \n",
       "...          ...    ...  \n",
       "10075        NaN    NaN  \n",
       "10076        NaN    NaN  \n",
       "10077        1.0    1.0  \n",
       "10078        NaN    NaN  \n",
       "10079        NaN    NaN  \n",
       "\n",
       "[10080 rows x 9 columns]"
      ],
      "text/html": "<div>\n<style scoped>\n    .dataframe tbody tr th:only-of-type {\n        vertical-align: middle;\n    }\n\n    .dataframe tbody tr th {\n        vertical-align: top;\n    }\n\n    .dataframe thead th {\n        text-align: right;\n    }\n</style>\n<table border=\"1\" class=\"dataframe\">\n  <thead>\n    <tr style=\"text-align: right;\">\n      <th></th>\n      <th>num</th>\n      <th>date_time</th>\n      <th>기온(°C)</th>\n      <th>풍속(m/s)</th>\n      <th>습도(%)</th>\n      <th>강수량(mm, 6시간)</th>\n      <th>일조(hr, 3시간)</th>\n      <th>비전기냉방설비운영</th>\n      <th>태양광보유</th>\n    </tr>\n  </thead>\n  <tbody>\n    <tr>\n      <th>0</th>\n      <td>1</td>\n      <td>2020-08-25 00</td>\n      <td>27.8</td>\n      <td>1.5</td>\n      <td>74.0</td>\n      <td>0.0</td>\n      <td>0.0</td>\n      <td>NaN</td>\n      <td>NaN</td>\n    </tr>\n    <tr>\n      <th>1</th>\n      <td>1</td>\n      <td>2020-08-25 01</td>\n      <td>NaN</td>\n      <td>NaN</td>\n      <td>NaN</td>\n      <td>NaN</td>\n      <td>NaN</td>\n      <td>NaN</td>\n      <td>NaN</td>\n    </tr>\n    <tr>\n      <th>2</th>\n      <td>1</td>\n      <td>2020-08-25 02</td>\n      <td>NaN</td>\n      <td>NaN</td>\n      <td>NaN</td>\n      <td>NaN</td>\n      <td>NaN</td>\n      <td>NaN</td>\n      <td>NaN</td>\n    </tr>\n    <tr>\n      <th>3</th>\n      <td>1</td>\n      <td>2020-08-25 03</td>\n      <td>27.3</td>\n      <td>1.1</td>\n      <td>78.0</td>\n      <td>NaN</td>\n      <td>0.0</td>\n      <td>NaN</td>\n      <td>NaN</td>\n    </tr>\n    <tr>\n      <th>4</th>\n      <td>1</td>\n      <td>2020-08-25 04</td>\n      <td>NaN</td>\n      <td>NaN</td>\n      <td>NaN</td>\n      <td>NaN</td>\n      <td>NaN</td>\n      <td>NaN</td>\n      <td>NaN</td>\n    </tr>\n    <tr>\n      <th>...</th>\n      <td>...</td>\n      <td>...</td>\n      <td>...</td>\n      <td>...</td>\n      <td>...</td>\n      <td>...</td>\n      <td>...</td>\n      <td>...</td>\n      <td>...</td>\n    </tr>\n    <tr>\n      <th>10075</th>\n      <td>60</td>\n      <td>2020-08-31 19</td>\n      <td>NaN</td>\n      <td>NaN</td>\n      <td>NaN</td>\n      <td>NaN</td>\n      <td>NaN</td>\n      <td>NaN</td>\n      <td>NaN</td>\n    </tr>\n    <tr>\n      <th>10076</th>\n      <td>60</td>\n      <td>2020-08-31 20</td>\n      <td>NaN</td>\n      <td>NaN</td>\n      <td>NaN</td>\n      <td>NaN</td>\n      <td>NaN</td>\n      <td>NaN</td>\n      <td>NaN</td>\n    </tr>\n    <tr>\n      <th>10077</th>\n      <td>60</td>\n      <td>2020-08-31 21</td>\n      <td>27.9</td>\n      <td>4.1</td>\n      <td>68.0</td>\n      <td>NaN</td>\n      <td>0.0</td>\n      <td>1.0</td>\n      <td>1.0</td>\n    </tr>\n    <tr>\n      <th>10078</th>\n      <td>60</td>\n      <td>2020-08-31 22</td>\n      <td>NaN</td>\n      <td>NaN</td>\n      <td>NaN</td>\n      <td>NaN</td>\n      <td>NaN</td>\n      <td>NaN</td>\n      <td>NaN</td>\n    </tr>\n    <tr>\n      <th>10079</th>\n      <td>60</td>\n      <td>2020-08-31 23</td>\n      <td>NaN</td>\n      <td>NaN</td>\n      <td>NaN</td>\n      <td>NaN</td>\n      <td>NaN</td>\n      <td>NaN</td>\n      <td>NaN</td>\n    </tr>\n  </tbody>\n</table>\n<p>10080 rows × 9 columns</p>\n</div>"
     },
     "metadata": {},
     "execution_count": 24
    }
   ],
   "source": [
    "test"
   ]
  },
  {
   "cell_type": "code",
   "execution_count": 8,
   "metadata": {},
   "outputs": [
    {
     "output_type": "execute_result",
     "data": {
      "text/plain": [
       "num           0\n",
       "date_time     0\n",
       "전력사용량(kWh)    0\n",
       "기온(°C)        0\n",
       "풍속(m/s)       0\n",
       "습도(%)         0\n",
       "강수량(mm)       0\n",
       "일조(hr)        0\n",
       "비전기냉방설비운영     0\n",
       "태양광보유         0\n",
       "dtype: int64"
      ]
     },
     "metadata": {},
     "execution_count": 8
    }
   ],
   "source": [
    "train.isnull().sum()"
   ]
  },
  {
   "cell_type": "code",
   "execution_count": 25,
   "metadata": {},
   "outputs": [
    {
     "output_type": "execute_result",
     "data": {
      "text/plain": [
       "num                0\n",
       "date_time          0\n",
       "기온(°C)          6720\n",
       "풍속(m/s)         6720\n",
       "습도(%)           6720\n",
       "강수량(mm, 6시간)    8400\n",
       "일조(hr, 3시간)     6720\n",
       "비전기냉방설비운영       7784\n",
       "태양광보유           8456\n",
       "dtype: int64"
      ]
     },
     "metadata": {},
     "execution_count": 25
    }
   ],
   "source": [
    "test.isnull().sum()"
   ]
  },
  {
   "cell_type": "code",
   "execution_count": 9,
   "metadata": {},
   "outputs": [
    {
     "output_type": "execute_result",
     "data": {
      "text/plain": [
       "                  num      date_time     전력사용량(kWh)         기온(°C)  \\\n",
       "count   122400.000000         122400  122400.000000  122400.000000   \n",
       "unique            NaN           2040            NaN            NaN   \n",
       "top               NaN  2020-06-15 22            NaN            NaN   \n",
       "freq              NaN             60            NaN            NaN   \n",
       "mean        30.500000            NaN    2324.830866      24.251713   \n",
       "std         17.318173            NaN    2058.999326       3.407902   \n",
       "min          1.000000            NaN       0.000000      11.100000   \n",
       "25%         15.750000            NaN    1055.268000      21.800000   \n",
       "50%         30.500000            NaN    1700.352000      24.200000   \n",
       "75%         45.250000            NaN    2780.487000      26.500000   \n",
       "max         60.000000            NaN   17739.225000      36.300000   \n",
       "\n",
       "              풍속(m/s)          습도(%)        강수량(mm)         일조(hr)  \\\n",
       "count   122400.000000  122400.000000  122400.000000  122400.000000   \n",
       "unique            NaN            NaN            NaN            NaN   \n",
       "top               NaN            NaN            NaN            NaN   \n",
       "freq              NaN            NaN            NaN            NaN   \n",
       "mean         2.151641      80.169848       0.514989       0.213533   \n",
       "std          1.514475      15.525862       2.624505       0.370517   \n",
       "min          0.000000      19.000000       0.000000       0.000000   \n",
       "25%          1.100000      70.000000       0.000000       0.000000   \n",
       "50%          1.900000      84.000000       0.000000       0.000000   \n",
       "75%          2.900000      93.000000       0.000000       0.300000   \n",
       "max         20.100000     100.000000      81.500000       1.000000   \n",
       "\n",
       "            비전기냉방설비운영          태양광보유  \n",
       "count   122400.000000  122400.000000  \n",
       "unique            NaN            NaN  \n",
       "top               NaN            NaN  \n",
       "freq              NaN            NaN  \n",
       "mean         0.683333       0.483333  \n",
       "std          0.465178       0.499724  \n",
       "min          0.000000       0.000000  \n",
       "25%          0.000000       0.000000  \n",
       "50%          1.000000       0.000000  \n",
       "75%          1.000000       1.000000  \n",
       "max          1.000000       1.000000  "
      ],
      "text/html": "<div>\n<style scoped>\n    .dataframe tbody tr th:only-of-type {\n        vertical-align: middle;\n    }\n\n    .dataframe tbody tr th {\n        vertical-align: top;\n    }\n\n    .dataframe thead th {\n        text-align: right;\n    }\n</style>\n<table border=\"1\" class=\"dataframe\">\n  <thead>\n    <tr style=\"text-align: right;\">\n      <th></th>\n      <th>num</th>\n      <th>date_time</th>\n      <th>전력사용량(kWh)</th>\n      <th>기온(°C)</th>\n      <th>풍속(m/s)</th>\n      <th>습도(%)</th>\n      <th>강수량(mm)</th>\n      <th>일조(hr)</th>\n      <th>비전기냉방설비운영</th>\n      <th>태양광보유</th>\n    </tr>\n  </thead>\n  <tbody>\n    <tr>\n      <th>count</th>\n      <td>122400.000000</td>\n      <td>122400</td>\n      <td>122400.000000</td>\n      <td>122400.000000</td>\n      <td>122400.000000</td>\n      <td>122400.000000</td>\n      <td>122400.000000</td>\n      <td>122400.000000</td>\n      <td>122400.000000</td>\n      <td>122400.000000</td>\n    </tr>\n    <tr>\n      <th>unique</th>\n      <td>NaN</td>\n      <td>2040</td>\n      <td>NaN</td>\n      <td>NaN</td>\n      <td>NaN</td>\n      <td>NaN</td>\n      <td>NaN</td>\n      <td>NaN</td>\n      <td>NaN</td>\n      <td>NaN</td>\n    </tr>\n    <tr>\n      <th>top</th>\n      <td>NaN</td>\n      <td>2020-06-15 22</td>\n      <td>NaN</td>\n      <td>NaN</td>\n      <td>NaN</td>\n      <td>NaN</td>\n      <td>NaN</td>\n      <td>NaN</td>\n      <td>NaN</td>\n      <td>NaN</td>\n    </tr>\n    <tr>\n      <th>freq</th>\n      <td>NaN</td>\n      <td>60</td>\n      <td>NaN</td>\n      <td>NaN</td>\n      <td>NaN</td>\n      <td>NaN</td>\n      <td>NaN</td>\n      <td>NaN</td>\n      <td>NaN</td>\n      <td>NaN</td>\n    </tr>\n    <tr>\n      <th>mean</th>\n      <td>30.500000</td>\n      <td>NaN</td>\n      <td>2324.830866</td>\n      <td>24.251713</td>\n      <td>2.151641</td>\n      <td>80.169848</td>\n      <td>0.514989</td>\n      <td>0.213533</td>\n      <td>0.683333</td>\n      <td>0.483333</td>\n    </tr>\n    <tr>\n      <th>std</th>\n      <td>17.318173</td>\n      <td>NaN</td>\n      <td>2058.999326</td>\n      <td>3.407902</td>\n      <td>1.514475</td>\n      <td>15.525862</td>\n      <td>2.624505</td>\n      <td>0.370517</td>\n      <td>0.465178</td>\n      <td>0.499724</td>\n    </tr>\n    <tr>\n      <th>min</th>\n      <td>1.000000</td>\n      <td>NaN</td>\n      <td>0.000000</td>\n      <td>11.100000</td>\n      <td>0.000000</td>\n      <td>19.000000</td>\n      <td>0.000000</td>\n      <td>0.000000</td>\n      <td>0.000000</td>\n      <td>0.000000</td>\n    </tr>\n    <tr>\n      <th>25%</th>\n      <td>15.750000</td>\n      <td>NaN</td>\n      <td>1055.268000</td>\n      <td>21.800000</td>\n      <td>1.100000</td>\n      <td>70.000000</td>\n      <td>0.000000</td>\n      <td>0.000000</td>\n      <td>0.000000</td>\n      <td>0.000000</td>\n    </tr>\n    <tr>\n      <th>50%</th>\n      <td>30.500000</td>\n      <td>NaN</td>\n      <td>1700.352000</td>\n      <td>24.200000</td>\n      <td>1.900000</td>\n      <td>84.000000</td>\n      <td>0.000000</td>\n      <td>0.000000</td>\n      <td>1.000000</td>\n      <td>0.000000</td>\n    </tr>\n    <tr>\n      <th>75%</th>\n      <td>45.250000</td>\n      <td>NaN</td>\n      <td>2780.487000</td>\n      <td>26.500000</td>\n      <td>2.900000</td>\n      <td>93.000000</td>\n      <td>0.000000</td>\n      <td>0.300000</td>\n      <td>1.000000</td>\n      <td>1.000000</td>\n    </tr>\n    <tr>\n      <th>max</th>\n      <td>60.000000</td>\n      <td>NaN</td>\n      <td>17739.225000</td>\n      <td>36.300000</td>\n      <td>20.100000</td>\n      <td>100.000000</td>\n      <td>81.500000</td>\n      <td>1.000000</td>\n      <td>1.000000</td>\n      <td>1.000000</td>\n    </tr>\n  </tbody>\n</table>\n</div>"
     },
     "metadata": {},
     "execution_count": 9
    }
   ],
   "source": [
    "train.describe(include='all')"
   ]
  },
  {
   "cell_type": "code",
   "execution_count": 17,
   "metadata": {},
   "outputs": [
    {
     "output_type": "execute_result",
     "data": {
      "text/plain": [
       "1.0    83640\n",
       "0.0    38760\n",
       "Name: 비전기냉방설비운영, dtype: int64"
      ]
     },
     "metadata": {},
     "execution_count": 17
    }
   ],
   "source": [
    "train['비전기냉방설비운영'].value_counts()"
   ]
  },
  {
   "cell_type": "code",
   "execution_count": 27,
   "metadata": {},
   "outputs": [],
   "source": [
    "train.columns = ['num', 'datetime', 'usage', 'temp', 'wind', 'hum', 'rain', 'sunlight', 'nonelec', 'solar']\n",
    "test.columns = ['num', 'datetime', 'temp', 'wind', 'hum', 'rain', 'sunlight', 'nonelec', 'solar']\n"
   ]
  },
  {
   "cell_type": "code",
   "execution_count": 19,
   "metadata": {},
   "outputs": [
    {
     "output_type": "execute_result",
     "data": {
      "text/plain": [
       "        num       datetime     usage  temp  wind   hum  rain  sunlight  \\\n",
       "0         1  2020-06-01 00  8179.056  17.6   2.5  92.0   0.8       0.0   \n",
       "1         1  2020-06-01 01  8135.640  17.7   2.9  91.0   0.3       0.0   \n",
       "2         1  2020-06-01 02  8107.128  17.5   3.2  91.0   0.0       0.0   \n",
       "3         1  2020-06-01 03  8048.808  17.1   3.2  91.0   0.0       0.0   \n",
       "4         1  2020-06-01 04  8043.624  17.0   3.3  92.0   0.0       0.0   \n",
       "...     ...            ...       ...   ...   ...   ...   ...       ...   \n",
       "122395   60  2020-08-24 19  4114.368  27.8   2.3  68.0   0.0       0.7   \n",
       "122396   60  2020-08-24 20  3975.696  27.3   1.2  71.0   0.0       0.0   \n",
       "122397   60  2020-08-24 21  3572.208  27.3   1.8  71.0   0.0       0.0   \n",
       "122398   60  2020-08-24 22  3299.184  27.1   1.8  74.0   0.0       0.0   \n",
       "122399   60  2020-08-24 23  3204.576  27.1   2.6  75.0   0.0       0.0   \n",
       "\n",
       "        nonelec  solar  \n",
       "0           0.0    0.0  \n",
       "1           0.0    0.0  \n",
       "2           0.0    0.0  \n",
       "3           0.0    0.0  \n",
       "4           0.0    0.0  \n",
       "...         ...    ...  \n",
       "122395      1.0    1.0  \n",
       "122396      1.0    1.0  \n",
       "122397      1.0    1.0  \n",
       "122398      1.0    1.0  \n",
       "122399      1.0    1.0  \n",
       "\n",
       "[122400 rows x 10 columns]"
      ],
      "text/html": "<div>\n<style scoped>\n    .dataframe tbody tr th:only-of-type {\n        vertical-align: middle;\n    }\n\n    .dataframe tbody tr th {\n        vertical-align: top;\n    }\n\n    .dataframe thead th {\n        text-align: right;\n    }\n</style>\n<table border=\"1\" class=\"dataframe\">\n  <thead>\n    <tr style=\"text-align: right;\">\n      <th></th>\n      <th>num</th>\n      <th>datetime</th>\n      <th>usage</th>\n      <th>temp</th>\n      <th>wind</th>\n      <th>hum</th>\n      <th>rain</th>\n      <th>sunlight</th>\n      <th>nonelec</th>\n      <th>solar</th>\n    </tr>\n  </thead>\n  <tbody>\n    <tr>\n      <th>0</th>\n      <td>1</td>\n      <td>2020-06-01 00</td>\n      <td>8179.056</td>\n      <td>17.6</td>\n      <td>2.5</td>\n      <td>92.0</td>\n      <td>0.8</td>\n      <td>0.0</td>\n      <td>0.0</td>\n      <td>0.0</td>\n    </tr>\n    <tr>\n      <th>1</th>\n      <td>1</td>\n      <td>2020-06-01 01</td>\n      <td>8135.640</td>\n      <td>17.7</td>\n      <td>2.9</td>\n      <td>91.0</td>\n      <td>0.3</td>\n      <td>0.0</td>\n      <td>0.0</td>\n      <td>0.0</td>\n    </tr>\n    <tr>\n      <th>2</th>\n      <td>1</td>\n      <td>2020-06-01 02</td>\n      <td>8107.128</td>\n      <td>17.5</td>\n      <td>3.2</td>\n      <td>91.0</td>\n      <td>0.0</td>\n      <td>0.0</td>\n      <td>0.0</td>\n      <td>0.0</td>\n    </tr>\n    <tr>\n      <th>3</th>\n      <td>1</td>\n      <td>2020-06-01 03</td>\n      <td>8048.808</td>\n      <td>17.1</td>\n      <td>3.2</td>\n      <td>91.0</td>\n      <td>0.0</td>\n      <td>0.0</td>\n      <td>0.0</td>\n      <td>0.0</td>\n    </tr>\n    <tr>\n      <th>4</th>\n      <td>1</td>\n      <td>2020-06-01 04</td>\n      <td>8043.624</td>\n      <td>17.0</td>\n      <td>3.3</td>\n      <td>92.0</td>\n      <td>0.0</td>\n      <td>0.0</td>\n      <td>0.0</td>\n      <td>0.0</td>\n    </tr>\n    <tr>\n      <th>...</th>\n      <td>...</td>\n      <td>...</td>\n      <td>...</td>\n      <td>...</td>\n      <td>...</td>\n      <td>...</td>\n      <td>...</td>\n      <td>...</td>\n      <td>...</td>\n      <td>...</td>\n    </tr>\n    <tr>\n      <th>122395</th>\n      <td>60</td>\n      <td>2020-08-24 19</td>\n      <td>4114.368</td>\n      <td>27.8</td>\n      <td>2.3</td>\n      <td>68.0</td>\n      <td>0.0</td>\n      <td>0.7</td>\n      <td>1.0</td>\n      <td>1.0</td>\n    </tr>\n    <tr>\n      <th>122396</th>\n      <td>60</td>\n      <td>2020-08-24 20</td>\n      <td>3975.696</td>\n      <td>27.3</td>\n      <td>1.2</td>\n      <td>71.0</td>\n      <td>0.0</td>\n      <td>0.0</td>\n      <td>1.0</td>\n      <td>1.0</td>\n    </tr>\n    <tr>\n      <th>122397</th>\n      <td>60</td>\n      <td>2020-08-24 21</td>\n      <td>3572.208</td>\n      <td>27.3</td>\n      <td>1.8</td>\n      <td>71.0</td>\n      <td>0.0</td>\n      <td>0.0</td>\n      <td>1.0</td>\n      <td>1.0</td>\n    </tr>\n    <tr>\n      <th>122398</th>\n      <td>60</td>\n      <td>2020-08-24 22</td>\n      <td>3299.184</td>\n      <td>27.1</td>\n      <td>1.8</td>\n      <td>74.0</td>\n      <td>0.0</td>\n      <td>0.0</td>\n      <td>1.0</td>\n      <td>1.0</td>\n    </tr>\n    <tr>\n      <th>122399</th>\n      <td>60</td>\n      <td>2020-08-24 23</td>\n      <td>3204.576</td>\n      <td>27.1</td>\n      <td>2.6</td>\n      <td>75.0</td>\n      <td>0.0</td>\n      <td>0.0</td>\n      <td>1.0</td>\n      <td>1.0</td>\n    </tr>\n  </tbody>\n</table>\n<p>122400 rows × 10 columns</p>\n</div>"
     },
     "metadata": {},
     "execution_count": 19
    }
   ],
   "source": [
    "train"
   ]
  },
  {
   "cell_type": "code",
   "execution_count": 28,
   "metadata": {},
   "outputs": [
    {
     "output_type": "execute_result",
     "data": {
      "text/plain": [
       "       num       datetime  temp  wind   hum  rain  sunlight  nonelec  solar\n",
       "0        1  2020-08-25 00  27.8   1.5  74.0   0.0       0.0      NaN    NaN\n",
       "1        1  2020-08-25 01   NaN   NaN   NaN   NaN       NaN      NaN    NaN\n",
       "2        1  2020-08-25 02   NaN   NaN   NaN   NaN       NaN      NaN    NaN\n",
       "3        1  2020-08-25 03  27.3   1.1  78.0   NaN       0.0      NaN    NaN\n",
       "4        1  2020-08-25 04   NaN   NaN   NaN   NaN       NaN      NaN    NaN\n",
       "...    ...            ...   ...   ...   ...   ...       ...      ...    ...\n",
       "10075   60  2020-08-31 19   NaN   NaN   NaN   NaN       NaN      NaN    NaN\n",
       "10076   60  2020-08-31 20   NaN   NaN   NaN   NaN       NaN      NaN    NaN\n",
       "10077   60  2020-08-31 21  27.9   4.1  68.0   NaN       0.0      1.0    1.0\n",
       "10078   60  2020-08-31 22   NaN   NaN   NaN   NaN       NaN      NaN    NaN\n",
       "10079   60  2020-08-31 23   NaN   NaN   NaN   NaN       NaN      NaN    NaN\n",
       "\n",
       "[10080 rows x 9 columns]"
      ],
      "text/html": "<div>\n<style scoped>\n    .dataframe tbody tr th:only-of-type {\n        vertical-align: middle;\n    }\n\n    .dataframe tbody tr th {\n        vertical-align: top;\n    }\n\n    .dataframe thead th {\n        text-align: right;\n    }\n</style>\n<table border=\"1\" class=\"dataframe\">\n  <thead>\n    <tr style=\"text-align: right;\">\n      <th></th>\n      <th>num</th>\n      <th>datetime</th>\n      <th>temp</th>\n      <th>wind</th>\n      <th>hum</th>\n      <th>rain</th>\n      <th>sunlight</th>\n      <th>nonelec</th>\n      <th>solar</th>\n    </tr>\n  </thead>\n  <tbody>\n    <tr>\n      <th>0</th>\n      <td>1</td>\n      <td>2020-08-25 00</td>\n      <td>27.8</td>\n      <td>1.5</td>\n      <td>74.0</td>\n      <td>0.0</td>\n      <td>0.0</td>\n      <td>NaN</td>\n      <td>NaN</td>\n    </tr>\n    <tr>\n      <th>1</th>\n      <td>1</td>\n      <td>2020-08-25 01</td>\n      <td>NaN</td>\n      <td>NaN</td>\n      <td>NaN</td>\n      <td>NaN</td>\n      <td>NaN</td>\n      <td>NaN</td>\n      <td>NaN</td>\n    </tr>\n    <tr>\n      <th>2</th>\n      <td>1</td>\n      <td>2020-08-25 02</td>\n      <td>NaN</td>\n      <td>NaN</td>\n      <td>NaN</td>\n      <td>NaN</td>\n      <td>NaN</td>\n      <td>NaN</td>\n      <td>NaN</td>\n    </tr>\n    <tr>\n      <th>3</th>\n      <td>1</td>\n      <td>2020-08-25 03</td>\n      <td>27.3</td>\n      <td>1.1</td>\n      <td>78.0</td>\n      <td>NaN</td>\n      <td>0.0</td>\n      <td>NaN</td>\n      <td>NaN</td>\n    </tr>\n    <tr>\n      <th>4</th>\n      <td>1</td>\n      <td>2020-08-25 04</td>\n      <td>NaN</td>\n      <td>NaN</td>\n      <td>NaN</td>\n      <td>NaN</td>\n      <td>NaN</td>\n      <td>NaN</td>\n      <td>NaN</td>\n    </tr>\n    <tr>\n      <th>...</th>\n      <td>...</td>\n      <td>...</td>\n      <td>...</td>\n      <td>...</td>\n      <td>...</td>\n      <td>...</td>\n      <td>...</td>\n      <td>...</td>\n      <td>...</td>\n    </tr>\n    <tr>\n      <th>10075</th>\n      <td>60</td>\n      <td>2020-08-31 19</td>\n      <td>NaN</td>\n      <td>NaN</td>\n      <td>NaN</td>\n      <td>NaN</td>\n      <td>NaN</td>\n      <td>NaN</td>\n      <td>NaN</td>\n    </tr>\n    <tr>\n      <th>10076</th>\n      <td>60</td>\n      <td>2020-08-31 20</td>\n      <td>NaN</td>\n      <td>NaN</td>\n      <td>NaN</td>\n      <td>NaN</td>\n      <td>NaN</td>\n      <td>NaN</td>\n      <td>NaN</td>\n    </tr>\n    <tr>\n      <th>10077</th>\n      <td>60</td>\n      <td>2020-08-31 21</td>\n      <td>27.9</td>\n      <td>4.1</td>\n      <td>68.0</td>\n      <td>NaN</td>\n      <td>0.0</td>\n      <td>1.0</td>\n      <td>1.0</td>\n    </tr>\n    <tr>\n      <th>10078</th>\n      <td>60</td>\n      <td>2020-08-31 22</td>\n      <td>NaN</td>\n      <td>NaN</td>\n      <td>NaN</td>\n      <td>NaN</td>\n      <td>NaN</td>\n      <td>NaN</td>\n      <td>NaN</td>\n    </tr>\n    <tr>\n      <th>10079</th>\n      <td>60</td>\n      <td>2020-08-31 23</td>\n      <td>NaN</td>\n      <td>NaN</td>\n      <td>NaN</td>\n      <td>NaN</td>\n      <td>NaN</td>\n      <td>NaN</td>\n      <td>NaN</td>\n    </tr>\n  </tbody>\n</table>\n<p>10080 rows × 9 columns</p>\n</div>"
     },
     "metadata": {},
     "execution_count": 28
    }
   ],
   "source": [
    "test"
   ]
  },
  {
   "cell_type": "code",
   "execution_count": 33,
   "metadata": {},
   "outputs": [],
   "source": [
    "test.loc[test.temp.isnull(), 'temp'] = test.temp.mean()\n",
    "test.loc[test.wind.isnull(), 'wind'] = test.wind.mean()\n",
    "test.loc[test.hum.isnull(), 'hum'] = test.hum.mean()\n",
    "test.loc[test.rain.isnull(), 'rain'] = test.rain.mean()\n",
    "test.loc[test.sunlight.isnull(), 'sunlight'] = test.sunlight.mean()"
   ]
  },
  {
   "cell_type": "code",
   "execution_count": 39,
   "metadata": {},
   "outputs": [],
   "source": [
    "test.nonelec.fillna(value=0, inplace=True)\n",
    "test.solar.fillna(value=0, inplace=True)"
   ]
  },
  {
   "cell_type": "code",
   "execution_count": 40,
   "metadata": {},
   "outputs": [
    {
     "output_type": "execute_result",
     "data": {
      "text/plain": [
       "num         0\n",
       "datetime    0\n",
       "temp        0\n",
       "wind        0\n",
       "hum         0\n",
       "rain        0\n",
       "sunlight    0\n",
       "nonelec     0\n",
       "solar       0\n",
       "dtype: int64"
      ]
     },
     "metadata": {},
     "execution_count": 40
    }
   ],
   "source": [
    "test.isnull().sum()"
   ]
  },
  {
   "cell_type": "code",
   "execution_count": 20,
   "metadata": {},
   "outputs": [],
   "source": [
    "X_train = train.iloc[:, 3:]\n",
    "y_train = train.usage"
   ]
  },
  {
   "cell_type": "code",
   "execution_count": 21,
   "metadata": {},
   "outputs": [
    {
     "output_type": "execute_result",
     "data": {
      "text/plain": [
       "        temp  wind   hum  rain  sunlight  nonelec  solar\n",
       "0       17.6   2.5  92.0   0.8       0.0      0.0    0.0\n",
       "1       17.7   2.9  91.0   0.3       0.0      0.0    0.0\n",
       "2       17.5   3.2  91.0   0.0       0.0      0.0    0.0\n",
       "3       17.1   3.2  91.0   0.0       0.0      0.0    0.0\n",
       "4       17.0   3.3  92.0   0.0       0.0      0.0    0.0\n",
       "...      ...   ...   ...   ...       ...      ...    ...\n",
       "122395  27.8   2.3  68.0   0.0       0.7      1.0    1.0\n",
       "122396  27.3   1.2  71.0   0.0       0.0      1.0    1.0\n",
       "122397  27.3   1.8  71.0   0.0       0.0      1.0    1.0\n",
       "122398  27.1   1.8  74.0   0.0       0.0      1.0    1.0\n",
       "122399  27.1   2.6  75.0   0.0       0.0      1.0    1.0\n",
       "\n",
       "[122400 rows x 7 columns]"
      ],
      "text/html": "<div>\n<style scoped>\n    .dataframe tbody tr th:only-of-type {\n        vertical-align: middle;\n    }\n\n    .dataframe tbody tr th {\n        vertical-align: top;\n    }\n\n    .dataframe thead th {\n        text-align: right;\n    }\n</style>\n<table border=\"1\" class=\"dataframe\">\n  <thead>\n    <tr style=\"text-align: right;\">\n      <th></th>\n      <th>temp</th>\n      <th>wind</th>\n      <th>hum</th>\n      <th>rain</th>\n      <th>sunlight</th>\n      <th>nonelec</th>\n      <th>solar</th>\n    </tr>\n  </thead>\n  <tbody>\n    <tr>\n      <th>0</th>\n      <td>17.6</td>\n      <td>2.5</td>\n      <td>92.0</td>\n      <td>0.8</td>\n      <td>0.0</td>\n      <td>0.0</td>\n      <td>0.0</td>\n    </tr>\n    <tr>\n      <th>1</th>\n      <td>17.7</td>\n      <td>2.9</td>\n      <td>91.0</td>\n      <td>0.3</td>\n      <td>0.0</td>\n      <td>0.0</td>\n      <td>0.0</td>\n    </tr>\n    <tr>\n      <th>2</th>\n      <td>17.5</td>\n      <td>3.2</td>\n      <td>91.0</td>\n      <td>0.0</td>\n      <td>0.0</td>\n      <td>0.0</td>\n      <td>0.0</td>\n    </tr>\n    <tr>\n      <th>3</th>\n      <td>17.1</td>\n      <td>3.2</td>\n      <td>91.0</td>\n      <td>0.0</td>\n      <td>0.0</td>\n      <td>0.0</td>\n      <td>0.0</td>\n    </tr>\n    <tr>\n      <th>4</th>\n      <td>17.0</td>\n      <td>3.3</td>\n      <td>92.0</td>\n      <td>0.0</td>\n      <td>0.0</td>\n      <td>0.0</td>\n      <td>0.0</td>\n    </tr>\n    <tr>\n      <th>...</th>\n      <td>...</td>\n      <td>...</td>\n      <td>...</td>\n      <td>...</td>\n      <td>...</td>\n      <td>...</td>\n      <td>...</td>\n    </tr>\n    <tr>\n      <th>122395</th>\n      <td>27.8</td>\n      <td>2.3</td>\n      <td>68.0</td>\n      <td>0.0</td>\n      <td>0.7</td>\n      <td>1.0</td>\n      <td>1.0</td>\n    </tr>\n    <tr>\n      <th>122396</th>\n      <td>27.3</td>\n      <td>1.2</td>\n      <td>71.0</td>\n      <td>0.0</td>\n      <td>0.0</td>\n      <td>1.0</td>\n      <td>1.0</td>\n    </tr>\n    <tr>\n      <th>122397</th>\n      <td>27.3</td>\n      <td>1.8</td>\n      <td>71.0</td>\n      <td>0.0</td>\n      <td>0.0</td>\n      <td>1.0</td>\n      <td>1.0</td>\n    </tr>\n    <tr>\n      <th>122398</th>\n      <td>27.1</td>\n      <td>1.8</td>\n      <td>74.0</td>\n      <td>0.0</td>\n      <td>0.0</td>\n      <td>1.0</td>\n      <td>1.0</td>\n    </tr>\n    <tr>\n      <th>122399</th>\n      <td>27.1</td>\n      <td>2.6</td>\n      <td>75.0</td>\n      <td>0.0</td>\n      <td>0.0</td>\n      <td>1.0</td>\n      <td>1.0</td>\n    </tr>\n  </tbody>\n</table>\n<p>122400 rows × 7 columns</p>\n</div>"
     },
     "metadata": {},
     "execution_count": 21
    }
   ],
   "source": [
    "X_train"
   ]
  },
  {
   "cell_type": "code",
   "execution_count": 22,
   "metadata": {},
   "outputs": [
    {
     "output_type": "execute_result",
     "data": {
      "text/plain": [
       "0         8179.056\n",
       "1         8135.640\n",
       "2         8107.128\n",
       "3         8048.808\n",
       "4         8043.624\n",
       "            ...   \n",
       "122395    4114.368\n",
       "122396    3975.696\n",
       "122397    3572.208\n",
       "122398    3299.184\n",
       "122399    3204.576\n",
       "Name: usage, Length: 122400, dtype: float64"
      ]
     },
     "metadata": {},
     "execution_count": 22
    }
   ],
   "source": [
    "y_train"
   ]
  },
  {
   "cell_type": "code",
   "execution_count": 41,
   "metadata": {},
   "outputs": [
    {
     "output_type": "execute_result",
     "data": {
      "text/plain": [
       "       num       datetime       temp      wind        hum      rain  sunlight  \\\n",
       "0        1  2020-08-25 00  27.800000  1.500000  74.000000  0.000000  0.000000   \n",
       "1        1  2020-08-25 01  27.805804  2.440327  81.963095  2.191845  0.612917   \n",
       "2        1  2020-08-25 02  27.805804  2.440327  81.963095  2.191845  0.612917   \n",
       "3        1  2020-08-25 03  27.300000  1.100000  78.000000  2.191845  0.000000   \n",
       "4        1  2020-08-25 04  27.805804  2.440327  81.963095  2.191845  0.612917   \n",
       "...    ...            ...        ...       ...        ...       ...       ...   \n",
       "10075   60  2020-08-31 19  27.805804  2.440327  81.963095  2.191845  0.612917   \n",
       "10076   60  2020-08-31 20  27.805804  2.440327  81.963095  2.191845  0.612917   \n",
       "10077   60  2020-08-31 21  27.900000  4.100000  68.000000  2.191845  0.000000   \n",
       "10078   60  2020-08-31 22  27.805804  2.440327  81.963095  2.191845  0.612917   \n",
       "10079   60  2020-08-31 23  27.805804  2.440327  81.963095  2.191845  0.612917   \n",
       "\n",
       "       nonelec  solar  \n",
       "0          0.0    0.0  \n",
       "1          0.0    0.0  \n",
       "2          0.0    0.0  \n",
       "3          0.0    0.0  \n",
       "4          0.0    0.0  \n",
       "...        ...    ...  \n",
       "10075      0.0    0.0  \n",
       "10076      0.0    0.0  \n",
       "10077      1.0    1.0  \n",
       "10078      0.0    0.0  \n",
       "10079      0.0    0.0  \n",
       "\n",
       "[10080 rows x 9 columns]"
      ],
      "text/html": "<div>\n<style scoped>\n    .dataframe tbody tr th:only-of-type {\n        vertical-align: middle;\n    }\n\n    .dataframe tbody tr th {\n        vertical-align: top;\n    }\n\n    .dataframe thead th {\n        text-align: right;\n    }\n</style>\n<table border=\"1\" class=\"dataframe\">\n  <thead>\n    <tr style=\"text-align: right;\">\n      <th></th>\n      <th>num</th>\n      <th>datetime</th>\n      <th>temp</th>\n      <th>wind</th>\n      <th>hum</th>\n      <th>rain</th>\n      <th>sunlight</th>\n      <th>nonelec</th>\n      <th>solar</th>\n    </tr>\n  </thead>\n  <tbody>\n    <tr>\n      <th>0</th>\n      <td>1</td>\n      <td>2020-08-25 00</td>\n      <td>27.800000</td>\n      <td>1.500000</td>\n      <td>74.000000</td>\n      <td>0.000000</td>\n      <td>0.000000</td>\n      <td>0.0</td>\n      <td>0.0</td>\n    </tr>\n    <tr>\n      <th>1</th>\n      <td>1</td>\n      <td>2020-08-25 01</td>\n      <td>27.805804</td>\n      <td>2.440327</td>\n      <td>81.963095</td>\n      <td>2.191845</td>\n      <td>0.612917</td>\n      <td>0.0</td>\n      <td>0.0</td>\n    </tr>\n    <tr>\n      <th>2</th>\n      <td>1</td>\n      <td>2020-08-25 02</td>\n      <td>27.805804</td>\n      <td>2.440327</td>\n      <td>81.963095</td>\n      <td>2.191845</td>\n      <td>0.612917</td>\n      <td>0.0</td>\n      <td>0.0</td>\n    </tr>\n    <tr>\n      <th>3</th>\n      <td>1</td>\n      <td>2020-08-25 03</td>\n      <td>27.300000</td>\n      <td>1.100000</td>\n      <td>78.000000</td>\n      <td>2.191845</td>\n      <td>0.000000</td>\n      <td>0.0</td>\n      <td>0.0</td>\n    </tr>\n    <tr>\n      <th>4</th>\n      <td>1</td>\n      <td>2020-08-25 04</td>\n      <td>27.805804</td>\n      <td>2.440327</td>\n      <td>81.963095</td>\n      <td>2.191845</td>\n      <td>0.612917</td>\n      <td>0.0</td>\n      <td>0.0</td>\n    </tr>\n    <tr>\n      <th>...</th>\n      <td>...</td>\n      <td>...</td>\n      <td>...</td>\n      <td>...</td>\n      <td>...</td>\n      <td>...</td>\n      <td>...</td>\n      <td>...</td>\n      <td>...</td>\n    </tr>\n    <tr>\n      <th>10075</th>\n      <td>60</td>\n      <td>2020-08-31 19</td>\n      <td>27.805804</td>\n      <td>2.440327</td>\n      <td>81.963095</td>\n      <td>2.191845</td>\n      <td>0.612917</td>\n      <td>0.0</td>\n      <td>0.0</td>\n    </tr>\n    <tr>\n      <th>10076</th>\n      <td>60</td>\n      <td>2020-08-31 20</td>\n      <td>27.805804</td>\n      <td>2.440327</td>\n      <td>81.963095</td>\n      <td>2.191845</td>\n      <td>0.612917</td>\n      <td>0.0</td>\n      <td>0.0</td>\n    </tr>\n    <tr>\n      <th>10077</th>\n      <td>60</td>\n      <td>2020-08-31 21</td>\n      <td>27.900000</td>\n      <td>4.100000</td>\n      <td>68.000000</td>\n      <td>2.191845</td>\n      <td>0.000000</td>\n      <td>1.0</td>\n      <td>1.0</td>\n    </tr>\n    <tr>\n      <th>10078</th>\n      <td>60</td>\n      <td>2020-08-31 22</td>\n      <td>27.805804</td>\n      <td>2.440327</td>\n      <td>81.963095</td>\n      <td>2.191845</td>\n      <td>0.612917</td>\n      <td>0.0</td>\n      <td>0.0</td>\n    </tr>\n    <tr>\n      <th>10079</th>\n      <td>60</td>\n      <td>2020-08-31 23</td>\n      <td>27.805804</td>\n      <td>2.440327</td>\n      <td>81.963095</td>\n      <td>2.191845</td>\n      <td>0.612917</td>\n      <td>0.0</td>\n      <td>0.0</td>\n    </tr>\n  </tbody>\n</table>\n<p>10080 rows × 9 columns</p>\n</div>"
     },
     "metadata": {},
     "execution_count": 41
    }
   ],
   "source": [
    "test"
   ]
  },
  {
   "cell_type": "code",
   "execution_count": 43,
   "metadata": {},
   "outputs": [],
   "source": [
    "X_test = test.iloc[:, 2:]"
   ]
  },
  {
   "cell_type": "code",
   "execution_count": 45,
   "metadata": {},
   "outputs": [],
   "source": [
    "from sklearn.preprocessing import StandardScaler\n",
    "\n",
    "scaler = StandardScaler()\n",
    "scaler.fit(X_train)\n",
    "X_train = scaler.transform(X_train)\n",
    "X_test = scaler.transform(X_test)"
   ]
  },
  {
   "cell_type": "code",
   "execution_count": 48,
   "metadata": {},
   "outputs": [
    {
     "output_type": "execute_result",
     "data": {
      "text/plain": [
       "LinearRegression()"
      ]
     },
     "metadata": {},
     "execution_count": 48
    }
   ],
   "source": [
    "from sklearn.linear_model import LinearRegression\n",
    "\n",
    "model = LinearRegression()\n",
    "model.fit(X_train, y_train)"
   ]
  },
  {
   "cell_type": "code",
   "execution_count": 49,
   "metadata": {},
   "outputs": [
    {
     "output_type": "execute_result",
     "data": {
      "text/plain": [
       "array([16489.19641871, 17441.13161613, 17441.13161613, ...,\n",
       "       16982.00077863, 17441.13161613, 17441.13161613])"
      ]
     },
     "metadata": {},
     "execution_count": 49
    }
   ],
   "source": [
    "pred = model.predict(X_test)\n",
    "pred"
   ]
  },
  {
   "cell_type": "code",
   "execution_count": 51,
   "metadata": {},
   "outputs": [
    {
     "output_type": "execute_result",
     "data": {
      "text/plain": [
       "          num_date_time  answer\n",
       "0       1 2020-08-25 00       0\n",
       "1       1 2020-08-25 01       0\n",
       "2       1 2020-08-25 02       0\n",
       "3       1 2020-08-25 03       0\n",
       "4       1 2020-08-25 04       0\n",
       "...                 ...     ...\n",
       "10075  60 2020-08-31 19       0\n",
       "10076  60 2020-08-31 20       0\n",
       "10077  60 2020-08-31 21       0\n",
       "10078  60 2020-08-31 22       0\n",
       "10079  60 2020-08-31 23       0\n",
       "\n",
       "[10080 rows x 2 columns]"
      ],
      "text/html": "<div>\n<style scoped>\n    .dataframe tbody tr th:only-of-type {\n        vertical-align: middle;\n    }\n\n    .dataframe tbody tr th {\n        vertical-align: top;\n    }\n\n    .dataframe thead th {\n        text-align: right;\n    }\n</style>\n<table border=\"1\" class=\"dataframe\">\n  <thead>\n    <tr style=\"text-align: right;\">\n      <th></th>\n      <th>num_date_time</th>\n      <th>answer</th>\n    </tr>\n  </thead>\n  <tbody>\n    <tr>\n      <th>0</th>\n      <td>1 2020-08-25 00</td>\n      <td>0</td>\n    </tr>\n    <tr>\n      <th>1</th>\n      <td>1 2020-08-25 01</td>\n      <td>0</td>\n    </tr>\n    <tr>\n      <th>2</th>\n      <td>1 2020-08-25 02</td>\n      <td>0</td>\n    </tr>\n    <tr>\n      <th>3</th>\n      <td>1 2020-08-25 03</td>\n      <td>0</td>\n    </tr>\n    <tr>\n      <th>4</th>\n      <td>1 2020-08-25 04</td>\n      <td>0</td>\n    </tr>\n    <tr>\n      <th>...</th>\n      <td>...</td>\n      <td>...</td>\n    </tr>\n    <tr>\n      <th>10075</th>\n      <td>60 2020-08-31 19</td>\n      <td>0</td>\n    </tr>\n    <tr>\n      <th>10076</th>\n      <td>60 2020-08-31 20</td>\n      <td>0</td>\n    </tr>\n    <tr>\n      <th>10077</th>\n      <td>60 2020-08-31 21</td>\n      <td>0</td>\n    </tr>\n    <tr>\n      <th>10078</th>\n      <td>60 2020-08-31 22</td>\n      <td>0</td>\n    </tr>\n    <tr>\n      <th>10079</th>\n      <td>60 2020-08-31 23</td>\n      <td>0</td>\n    </tr>\n  </tbody>\n</table>\n<p>10080 rows × 2 columns</p>\n</div>"
     },
     "metadata": {},
     "execution_count": 51
    }
   ],
   "source": [
    "sub = pd.read_csv('sample_submission.csv', encoding='cp949')\n",
    "sub"
   ]
  },
  {
   "cell_type": "code",
   "execution_count": 52,
   "metadata": {},
   "outputs": [],
   "source": [
    "sub['answer'] = pred"
   ]
  },
  {
   "cell_type": "code",
   "execution_count": 53,
   "metadata": {},
   "outputs": [
    {
     "output_type": "execute_result",
     "data": {
      "text/plain": [
       "          num_date_time        answer\n",
       "0       1 2020-08-25 00  16489.196419\n",
       "1       1 2020-08-25 01  17441.131616\n",
       "2       1 2020-08-25 02  17441.131616\n",
       "3       1 2020-08-25 03  16628.822563\n",
       "4       1 2020-08-25 04  17441.131616\n",
       "...                 ...           ...\n",
       "10075  60 2020-08-31 19  17441.131616\n",
       "10076  60 2020-08-31 20  17441.131616\n",
       "10077  60 2020-08-31 21  16982.000779\n",
       "10078  60 2020-08-31 22  17441.131616\n",
       "10079  60 2020-08-31 23  17441.131616\n",
       "\n",
       "[10080 rows x 2 columns]"
      ],
      "text/html": "<div>\n<style scoped>\n    .dataframe tbody tr th:only-of-type {\n        vertical-align: middle;\n    }\n\n    .dataframe tbody tr th {\n        vertical-align: top;\n    }\n\n    .dataframe thead th {\n        text-align: right;\n    }\n</style>\n<table border=\"1\" class=\"dataframe\">\n  <thead>\n    <tr style=\"text-align: right;\">\n      <th></th>\n      <th>num_date_time</th>\n      <th>answer</th>\n    </tr>\n  </thead>\n  <tbody>\n    <tr>\n      <th>0</th>\n      <td>1 2020-08-25 00</td>\n      <td>16489.196419</td>\n    </tr>\n    <tr>\n      <th>1</th>\n      <td>1 2020-08-25 01</td>\n      <td>17441.131616</td>\n    </tr>\n    <tr>\n      <th>2</th>\n      <td>1 2020-08-25 02</td>\n      <td>17441.131616</td>\n    </tr>\n    <tr>\n      <th>3</th>\n      <td>1 2020-08-25 03</td>\n      <td>16628.822563</td>\n    </tr>\n    <tr>\n      <th>4</th>\n      <td>1 2020-08-25 04</td>\n      <td>17441.131616</td>\n    </tr>\n    <tr>\n      <th>...</th>\n      <td>...</td>\n      <td>...</td>\n    </tr>\n    <tr>\n      <th>10075</th>\n      <td>60 2020-08-31 19</td>\n      <td>17441.131616</td>\n    </tr>\n    <tr>\n      <th>10076</th>\n      <td>60 2020-08-31 20</td>\n      <td>17441.131616</td>\n    </tr>\n    <tr>\n      <th>10077</th>\n      <td>60 2020-08-31 21</td>\n      <td>16982.000779</td>\n    </tr>\n    <tr>\n      <th>10078</th>\n      <td>60 2020-08-31 22</td>\n      <td>17441.131616</td>\n    </tr>\n    <tr>\n      <th>10079</th>\n      <td>60 2020-08-31 23</td>\n      <td>17441.131616</td>\n    </tr>\n  </tbody>\n</table>\n<p>10080 rows × 2 columns</p>\n</div>"
     },
     "metadata": {},
     "execution_count": 53
    }
   ],
   "source": [
    "sub"
   ]
  },
  {
   "cell_type": "code",
   "execution_count": 54,
   "metadata": {},
   "outputs": [],
   "source": [
    "sub.to_csv('submission.csv', index=False)"
   ]
  },
  {
   "cell_type": "code",
   "execution_count": null,
   "metadata": {},
   "outputs": [],
   "source": []
  }
 ]
}